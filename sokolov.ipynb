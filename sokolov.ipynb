{
 "cells": [
  {
   "cell_type": "markdown",
   "id": "750a202a",
   "metadata": {},
   "source": [
    "# Зачетная работа \n",
    "*Соколов Кирилл Денисович* "
   ]
  },
  {
   "cell_type": "markdown",
   "id": "35721d9e",
   "metadata": {},
   "source": [
    "#  Численное интегрирование. Светимость черного тела\n",
    "\n",
    "1.Построить для Солнца график зависимости 𝜑(𝜆,𝑇) от 𝜆.\n",
    "\n",
    "2.Вычислить светимость Солнца на видимой области длин волн.\n",
    "\n",
    "3.Вычислить светимость Солнца для всех длин волн.\n",
    "\n",
    "4.Найти светимость Солнца с помощью закона Стефана - Больцмана.\n",
    "\n",
    "5.Найти солнечную постоянную.\n",
    "\n",
    "6.Результаты сравнить с данными из литературы.\n",
    "\n",
    "7.Сделать выводы."
   ]
  },
  {
   "cell_type": "code",
   "execution_count": 1,
   "id": "ae61dc6f",
   "metadata": {},
   "outputs": [],
   "source": [
    "import numpy as np\n",
    "import matplotlib.pyplot as plt\n",
    "from scipy import integrate"
   ]
  },
  {
   "cell_type": "markdown",
   "id": "b22b5ef0",
   "metadata": {},
   "source": [
    "## график зависимости 𝜑(𝜆,𝑇) от 𝜆."
   ]
  },
  {
   "cell_type": "code",
   "execution_count": 9,
   "id": "83a126e5",
   "metadata": {},
   "outputs": [
    {
     "data": {
      "image/png": "[encoded data removed]",
      "text/plain": [
       "<Figure size 360x288 with 1 Axes>"
      ]
     },
     "metadata": {
      "needs_background": "light"
     },
     "output_type": "display_data"
    }
   ],
   "source": [
    "plt.figure(figsize = (5,4))\n",
    "h = 6.6261e-34\n",
    "c = 2.9979e8\n",
    "k = 1.3806e-23\n",
    "R_sun = 6.957e8\n",
    "T_eff = 5778\n",
    "x = np.linspace(1*10**-7,50*10**-7,100)\n",
    "y = (2*np.pi*h*c**2)/(x**5*(np.e**((h*c)/(x*k*T_eff)) - 1))\n",
    "plt.plot(x, y)\n",
    "plt.show()\n",
    "pass"
   ]
  },
  {
   "cell_type": "markdown",
   "id": "8ee7ce10",
   "metadata": {},
   "source": [
    "# 2 Светимость Солнца на видимой области длин волн"
   ]
  },
  {
   "cell_type": "markdown",
   "id": "43db9f0f",
   "metadata": {},
   "source": [
    "С помощью численного интегрирования найдем светимость Солнца\n",
    "на видимой области длин волн, т.\\,е. для $\\lambda$ в диапазоне от \n",
    "$\\lambda_1 = 3.5\\times 10^{-7}$ до $\\lambda_2 = 7\\times 10^{-7}$."
   ]
  },
  {
   "cell_type": "markdown",
   "id": "d98cab90",
   "metadata": {},
   "source": [
    "необходимо найти интеграл\n",
    "$$\n",
    "R(\\lambda_1,\\lambda_2,T) = \\int_{\\lambda_1}^{\\lambda_2} \\varphi(\\lambda, T) d\\lambda.\n",
    "$$"
   ]
  },
  {
   "cell_type": "code",
   "execution_count": 11,
   "id": "512a62ed",
   "metadata": {},
   "outputs": [
    {
     "name": "stdout",
     "output_type": "stream",
     "text": [
      "26239611.853874594 26239134.004388954 26456374.429090705\n"
     ]
    }
   ],
   "source": [
    "n = 100\n",
    "a = 3.5e-7\n",
    "b = 7e-7\n",
    "hh = (b - a)/n\n",
    "x = np.arange(a + hh/2, b, hh)\n",
    "y = (2*np.pi*h*c**2)/((x**5)*(np.exp((h*c)/(x*k*T_eff))-1))\n",
    "\n",
    "I_rect = hh*sum(y)\n",
    "I_trapz = integrate.trapz(y, x)\n",
    "I_simps = integrate.simps(y, x)\n",
    "print(I_simps, I_trapz, I_rect)"
   ]
  },
  {
   "cell_type": "markdown",
   "id": "7bca3925",
   "metadata": {},
   "source": [
    "## 3 Светимость Солнца для всех длин волн через несобственный интеграл"
   ]
  },
  {
   "cell_type": "code",
   "execution_count": 12,
   "id": "93df22bc",
   "metadata": {},
   "outputs": [],
   "source": [
    "def integrand (x):\n",
    "  return (2*np.pi*h*c**2)/(x**5*(np.e**((h*c)/(x*k*T_eff)) - 1))"
   ]
  },
  {
   "cell_type": "code",
   "execution_count": 14,
   "id": "c9e73851",
   "metadata": {},
   "outputs": [
    {
     "name": "stderr",
     "output_type": "stream",
     "text": [
      "<ipython-input-14-5a6c6db1ae3f>:1: IntegrationWarning: The algorithm does not converge.  Roundoff error is detected\n",
      "  in the extrapolation table.  It is assumed that the requested tolerance\n",
      "  cannot be achieved, and that the returned result (if full_output = 1) is \n",
      "  the best which can be obtained.\n",
      "  integrated = integrate.quad(integrand, 0, np.inf)[0]\n"
     ]
    },
    {
     "data": {
      "text/plain": [
       "3.827881358837864e+26"
      ]
     },
     "execution_count": 14,
     "metadata": {},
     "output_type": "execute_result"
    }
   ],
   "source": [
    "integrated = integrate.quad(integrand, 0, np.inf)[0]\n",
    "L = 4 * np.pi * R_sun**2 * integrated\n",
    "L"
   ]
  },
  {
   "cell_type": "markdown",
   "id": "e39c0c71",
   "metadata": {},
   "source": [
    "## 4. Закон Стефана-Больцмана"
   ]
  },
  {
   "cell_type": "markdown",
   "id": "f3ac723b",
   "metadata": {},
   "source": [
    "Найдем светимость Солнца с помощью закона *Стефана–Больцмана*"
   ]
  },
  {
   "cell_type": "code",
   "execution_count": 38,
   "id": "fd141aeb",
   "metadata": {},
   "outputs": [
    {
     "data": {
      "text/plain": [
       "3.846994382781468e+26"
      ]
     },
     "execution_count": 38,
     "metadata": {},
     "output_type": "execute_result"
    }
   ],
   "source": [
    "sigma = 5.67e-8 \n",
    "L = 4 * np.pi * R_sun**2 * sigma * T_eff**4\n",
    "L"
   ]
  },
  {
   "cell_type": "markdown",
   "id": "f3ef1d06",
   "metadata": {},
   "source": [
    "## 5 Солнечная постоянная"
   ]
  },
  {
   "cell_type": "markdown",
   "id": "ad8b7a5b",
   "metadata": {},
   "source": [
    "Считая Солнце чёрным телом, оценим энергию, приходящую от него на единичную площадку в окрестности Земли. Расстояние r между Землёй и Солнцем примем равным :"
   ]
  },
  {
   "cell_type": "code",
   "execution_count": 20,
   "id": "0d5a4cf3",
   "metadata": {
    "scrolled": true
   },
   "outputs": [
    {
     "data": {
      "text/plain": [
       "1361.0855325171206"
      ]
     },
     "execution_count": 20,
     "metadata": {},
     "output_type": "execute_result"
    }
   ],
   "source": [
    "a_u = 1.496e11\n",
    "S = L / (4 * np.pi * (a_u)**2)\n",
    "S"
   ]
  },
  {
   "cell_type": "markdown",
   "id": "3cf43aff",
   "metadata": {},
   "source": [
    "## 6 Сравнение результатов с данными из литературы"
   ]
  },
  {
   "cell_type": "markdown",
   "id": "ec46da76",
   "metadata": {},
   "source": [
    "Данные из википедии: Солнечная светимость L = 3.827 * 10^26 (Вт); Солнечная постоянная E = 1367 (Вт/м^2).\n",
    "\n",
    "Результаты полученные в ходе работы:\n",
    "\n",
    "1.Светимость солнца на видимой области длин волн: 26239611.853 (Вт); данные про этот интеграл не удалось найти в литературе.\n",
    "\n",
    "2.Светимость Солнца найденная с помощью закона Стефана-Больцмана: 3.846 * 10^26 (Вт).\n",
    "\n",
    "3.Светимость Солнца найденная с помощью несобстевнного интеграла: 3.827 * 10^26 (Вт).\n",
    "\n",
    "4.Солнечная постоянная: 1361.085 (Вт/м^2)"
   ]
  },
  {
   "cell_type": "markdown",
   "id": "256bfa88",
   "metadata": {},
   "source": [
    "## 7 Выводы"
   ]
  },
  {
   "cell_type": "markdown",
   "id": "42afb4dd",
   "metadata": {},
   "source": [
    "1.С учетом погрешности вычисленные результаты почти совпадают с результатами из литературы.\n",
    "\n",
    "2.Вычисленния с помощью несобственного интеграла дали более точный результат.\n",
    "\n",
    "3.Метод трапеций и метод Симпсона более точно вычисляют определенный интеграл."
   ]
  }
 ],
 "metadata": {
  "kernelspec": {
   "display_name": "Python 3",
   "language": "python",
   "name": "python3"
  },
  "language_info": {
   "codemirror_mode": {
    "name": "ipython",
    "version": 3
   },
   "file_extension": ".py",
   "mimetype": "text/x-python",
   "name": "python",
   "nbconvert_exporter": "python",
   "pygments_lexer": "ipython3",
   "version": "3.8.8"
  }
 },
 "nbformat": 4,
 "nbformat_minor": 5
}
